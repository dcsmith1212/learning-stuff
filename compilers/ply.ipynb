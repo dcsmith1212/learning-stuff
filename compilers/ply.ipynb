{
 "cells": [
  {
   "cell_type": "code",
   "execution_count": 1,
   "metadata": {},
   "outputs": [],
   "source": [
    "from aclexer import AcLexer"
   ]
  },
  {
   "cell_type": "code",
   "execution_count": 2,
   "metadata": {},
   "outputs": [],
   "source": [
    "lexer = AcLexer()"
   ]
  },
  {
   "cell_type": "code",
   "execution_count": 3,
   "metadata": {},
   "outputs": [],
   "source": [
    "data = '''\n",
    "i a\n",
    "f b\n",
    "a = 3\n",
    "b = 4.3 + a\n",
    "p b\n",
    "'''"
   ]
  },
  {
   "cell_type": "code",
   "execution_count": 4,
   "metadata": {},
   "outputs": [
    {
     "name": "stdout",
     "output_type": "stream",
     "text": [
      "Illegal character '.'\n"
     ]
    },
    {
     "data": {
      "text/plain": [
       "[LexToken(intdcl,'i',2,1),\n",
       " LexToken(id,'a',2,3),\n",
       " LexToken(floatdcl,'f',3,5),\n",
       " LexToken(id,'b',3,7),\n",
       " LexToken(id,'a',4,9),\n",
       " LexToken(assign,'=',4,11),\n",
       " LexToken(inum,3,4,13),\n",
       " LexToken(id,'b',5,15),\n",
       " LexToken(assign,'=',5,17),\n",
       " LexToken(inum,4,5,19),\n",
       " LexToken(inum,3,5,21),\n",
       " LexToken(plus,'+',5,23),\n",
       " LexToken(id,'a',5,25),\n",
       " LexToken(print,'p',6,27),\n",
       " LexToken(id,'b',6,29)]"
      ]
     },
     "execution_count": 4,
     "metadata": {},
     "output_type": "execute_result"
    }
   ],
   "source": [
    "lexer.tokenize(data)"
   ]
  },
  {
   "cell_type": "code",
   "execution_count": null,
   "metadata": {},
   "outputs": [],
   "source": [
    "# Tokenize\n",
    "while True:\n",
    "    tok = lexer.token()\n",
    "    if not tok:\n",
    "        break      # No more input\n",
    "    print(tok)"
   ]
  }
 ],
 "metadata": {
  "kernelspec": {
   "display_name": "base",
   "language": "python",
   "name": "python3"
  },
  "language_info": {
   "codemirror_mode": {
    "name": "ipython",
    "version": 3
   },
   "file_extension": ".py",
   "mimetype": "text/x-python",
   "name": "python",
   "nbconvert_exporter": "python",
   "pygments_lexer": "ipython3",
   "version": "3.11.5"
  }
 },
 "nbformat": 4,
 "nbformat_minor": 2
}
